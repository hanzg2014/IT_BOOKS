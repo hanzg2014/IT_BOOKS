{
 "cells": [
  {
   "cell_type": "code",
   "execution_count": 1,
   "metadata": {
    "collapsed": true,
    "deletable": true,
    "editable": true
   },
   "outputs": [],
   "source": [
    "# USAGE\n",
    "# python blurring.py --image ../images/trex.png\n",
    "# python blurring.py --image ../images/beach.png\n",
    "\n",
    "# Import the necessary packages\n",
    "import numpy as np\n",
    "import argparse\n",
    "import cv2"
   ]
  },
  {
   "cell_type": "code",
   "execution_count": 2,
   "metadata": {
    "collapsed": false,
    "deletable": true,
    "editable": true
   },
   "outputs": [
    {
     "data": {
      "text/plain": [
       "255"
      ]
     },
     "execution_count": 2,
     "metadata": {},
     "output_type": "execute_result"
    }
   ],
   "source": [
    "# USAGE\n",
    "# python blurring.py --image ../images/trex.png\n",
    "# python blurring.py --image ../images/beach.png\n",
    "\n",
    "# Load the image and show it\n",
    "image = cv2.imread(\"../images/trex.png\")\n",
    "cv2.imshow(\"Original\", image)\n",
    "cv2.waitKey(0)"
   ]
  },
  {
   "cell_type": "code",
   "execution_count": 7,
   "metadata": {
    "collapsed": false,
    "deletable": true,
    "editable": true
   },
   "outputs": [
    {
     "data": {
      "text/plain": [
       "255"
      ]
     },
     "execution_count": 7,
     "metadata": {},
     "output_type": "execute_result"
    }
   ],
   "source": [
    "\n",
    "blurred = np.hstack([\n",
    "\tcv2.blur(image, (3, 3)),\n",
    "\tcv2.blur(image, (5, 5)),\n",
    "\tcv2.blur(image, (7, 7)),\n",
    "    cv2.blur(image, (99, 99))])\n",
    "cv2.imshow(\"Averaged\", blurred)\n",
    "cv2.waitKey(0)"
   ]
  },
  {
   "cell_type": "code",
   "execution_count": 9,
   "metadata": {
    "collapsed": false,
    "deletable": true,
    "editable": true
   },
   "outputs": [
    {
     "data": {
      "text/plain": [
       "255"
      ]
     },
     "execution_count": 9,
     "metadata": {},
     "output_type": "execute_result"
    }
   ],
   "source": [
    "# We can also apply Gaussian blurring, where the relevant\n",
    "# parameters are the image we want to blur and the standard\n",
    "# deviation in the X and Y direction. Again, as the standard\n",
    "# deviation size increases, the image becomes progressively\n",
    "# more blurred\n",
    "#horizontally stack\n",
    "blurred = np.hstack([\n",
    "\tcv2.GaussianBlur(image, (3, 3), 0),\n",
    "\tcv2.GaussianBlur(image, (5, 5), 0),\n",
    "\tcv2.GaussianBlur(image, (7, 7), 0)])\n",
    "cv2.imshow(\"Gaussian\", blurred)\n",
    "cv2.waitKey(0)"
   ]
  },
  {
   "cell_type": "code",
   "execution_count": 3,
   "metadata": {
    "collapsed": false,
    "deletable": true,
    "editable": true
   },
   "outputs": [],
   "source": [
    "# Let's apply standard \"averaging\" blurring first. Average\n",
    "# blurring (as the name suggests), takes the average of all\n",
    "# pixels in the surrounding area and replaces the centeral\n",
    "# element of the output image with the average. Thus, in\n",
    "# order to have a central element, the area surrounding the\n",
    "# central must be odd. Here are a few examples with varying\n",
    "# kernel sizes. Notice how the larger the kernel gets, the\n",
    "# more blurred the image becomes\n",
    "blurred1 = np.hstack([\n",
    "\tcv2.blur(image, (3, 3)),\n",
    "\tcv2.blur(image, (5, 5)),\n",
    "\tcv2.blur(image, (7, 7))])"
   ]
  },
  {
   "cell_type": "code",
   "execution_count": 4,
   "metadata": {
    "collapsed": true
   },
   "outputs": [],
   "source": [
    "# We can also apply Gaussian blurring, where the relevant\n",
    "# parameters are the image we want to blur and the standard\n",
    "# deviation in the X and Y direction. Again, as the standard\n",
    "# deviation size increases, the image becomes progressively\n",
    "# more blurred\n",
    "#horizontally stack\n",
    "blurred2 = np.hstack([\n",
    "\tcv2.GaussianBlur(image, (3, 3), 0),\n",
    "\tcv2.GaussianBlur(image, (5, 5), 0),\n",
    "\tcv2.GaussianBlur(image, (7, 7), 0)])"
   ]
  },
  {
   "cell_type": "code",
   "execution_count": 5,
   "metadata": {
    "collapsed": false
   },
   "outputs": [
    {
     "data": {
      "text/plain": [
       "255"
      ]
     },
     "execution_count": 5,
     "metadata": {},
     "output_type": "execute_result"
    }
   ],
   "source": [
    "blurred = np.vstack([blurred1, blurred2])\n",
    "cv2.imshow(\"Gaussian\", blurred)\n",
    "cv2.waitKey(0)"
   ]
  },
  {
   "cell_type": "code",
   "execution_count": 6,
   "metadata": {
    "collapsed": false
   },
   "outputs": [
    {
     "data": {
      "text/plain": [
       "255"
      ]
     },
     "execution_count": 6,
     "metadata": {},
     "output_type": "execute_result"
    }
   ],
   "source": [
    "# The cv2.medianBlur function is mainly used for removing\n",
    "# what is called \"salt-and-pepper\" noise. Unlike the Average\n",
    "# method mentioned above, the median method (as the name\n",
    "# suggests), calculates the median pixel value amongst the\n",
    "# surrounding area.\n",
    "blurred = np.hstack([\n",
    "\tcv2.medianBlur(image, 3),\n",
    "\tcv2.medianBlur(image, 5),\n",
    "\tcv2.medianBlur(image, 7)])\n",
    "cv2.imshow(\"Median\", blurred)\n",
    "cv2.waitKey(0)"
   ]
  },
  {
   "cell_type": "code",
   "execution_count": 7,
   "metadata": {
    "collapsed": false,
    "deletable": true,
    "editable": true
   },
   "outputs": [
    {
     "data": {
      "text/plain": [
       "255"
      ]
     },
     "execution_count": 7,
     "metadata": {},
     "output_type": "execute_result"
    }
   ],
   "source": [
    "\n",
    "\n",
    "# You may have noticed that blurring can help remove noise,\n",
    "# but also makes edge less sharp. In order to keep edges\n",
    "# sharp, we can use bilateral filtering. We need to specify\n",
    "# the diameter of the neighborhood (as in examples above),\n",
    "# along with sigma values for color and coordinate space.\n",
    "# The larger these sigma values, the more pixels will be\n",
    "# considered within the neighborhood.\n",
    "blurred = np.hstack([\n",
    "\tcv2.bilateralFilter(image, 5, 21, 21),\n",
    "\tcv2.bilateralFilter(image, 7, 31, 31),\n",
    "\tcv2.bilateralFilter(image, 9, 41, 41)])\n",
    "cv2.imshow(\"Bilateral\", blurred)\n",
    "cv2.waitKey(0)"
   ]
  }
 ],
 "metadata": {
  "kernelspec": {
   "display_name": "Python 2",
   "language": "python",
   "name": "python2"
  },
  "language_info": {
   "codemirror_mode": {
    "name": "ipython",
    "version": 2
   },
   "file_extension": ".py",
   "mimetype": "text/x-python",
   "name": "python",
   "nbconvert_exporter": "python",
   "pygments_lexer": "ipython2",
   "version": "2.7.13"
  }
 },
 "nbformat": 4,
 "nbformat_minor": 2
}
