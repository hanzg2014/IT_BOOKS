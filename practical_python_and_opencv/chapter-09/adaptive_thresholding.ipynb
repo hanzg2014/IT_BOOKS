{
 "cells": [
  {
   "cell_type": "code",
   "execution_count": 2,
   "metadata": {
    "collapsed": true,
    "deletable": true,
    "editable": true
   },
   "outputs": [],
   "source": [
    "# USAGE\n",
    "# python adaptive_thresholding.py --image ../images/coins.png\n",
    "\n",
    "# Import the necessary packages\n",
    "import numpy as np\n",
    "import argparse\n",
    "import cv2\n"
   ]
  },
  {
   "cell_type": "code",
   "execution_count": 3,
   "metadata": {
    "collapsed": false,
    "deletable": true,
    "editable": true
   },
   "outputs": [
    {
     "data": {
      "text/plain": [
       "255"
      ]
     },
     "execution_count": 3,
     "metadata": {},
     "output_type": "execute_result"
    }
   ],
   "source": [
    "# Load the image, convert it to grayscale, and blur it slightly\n",
    "image = cv2.imread(\"../images/coins.png\")\n",
    "image = cv2.cvtColor(image, cv2.COLOR_BGR2GRAY)\n",
    "blurred = cv2.GaussianBlur(image, (5, 5), 0)\n",
    "cv2.imshow(\"Image\", image)\n",
    "cv2.waitKey(0)"
   ]
  },
  {
   "cell_type": "code",
   "execution_count": 6,
   "metadata": {
    "collapsed": false,
    "deletable": true,
    "editable": true
   },
   "outputs": [
    {
     "data": {
      "text/plain": [
       "255"
      ]
     },
     "execution_count": 6,
     "metadata": {},
     "output_type": "execute_result"
    }
   ],
   "source": [
    "# In our previous example, we had to use manually specify a\n",
    "# pixel value to globally threshold the image. In this example\n",
    "# we are going to examine a neighborbood of pixels and adaptively\n",
    "# apply thresholding to each neighborbood. In this example, we'll\n",
    "# calculate the mean value of the neighborhood area of 11 pixels\n",
    "# and threshold based on that value. Finally, our constant C is\n",
    "# subtracted from the mean calculation (in this case 4)\n",
    "#the kernel size is 11*11; subtract a constant of 4 from the mean \n",
    "thresh = cv2.adaptiveThreshold(blurred, 255,\n",
    "\tcv2.ADAPTIVE_THRESH_MEAN_C, cv2.THRESH_BINARY_INV, 11, 4)\n",
    "cv2.imshow(\"Mean Thresh\", thresh)\n",
    "cv2.waitKey(0)"
   ]
  },
  {
   "cell_type": "code",
   "execution_count": 5,
   "metadata": {
    "collapsed": false,
    "deletable": true,
    "editable": true
   },
   "outputs": [
    {
     "data": {
      "text/plain": [
       "255"
      ]
     },
     "execution_count": 5,
     "metadata": {},
     "output_type": "execute_result"
    }
   ],
   "source": [
    "# We can also apply Gaussian thresholding in the same manner\n",
    "#the kernel size is 15*15; subtract a constant of 3 from the mean \n",
    "thresh = cv2.adaptiveThreshold(blurred, 255,\n",
    "\tcv2.ADAPTIVE_THRESH_GAUSSIAN_C, cv2.THRESH_BINARY_INV, 15, 3)\n",
    "cv2.imshow(\"Gaussian Thresh\", thresh)\n",
    "cv2.waitKey(0)"
   ]
  },
  {
   "cell_type": "code",
   "execution_count": null,
   "metadata": {
    "collapsed": true
   },
   "outputs": [],
   "source": []
  }
 ],
 "metadata": {
  "kernelspec": {
   "display_name": "Python 2",
   "language": "python",
   "name": "python2"
  },
  "language_info": {
   "codemirror_mode": {
    "name": "ipython",
    "version": 2
   },
   "file_extension": ".py",
   "mimetype": "text/x-python",
   "name": "python",
   "nbconvert_exporter": "python",
   "pygments_lexer": "ipython2",
   "version": "2.7.13"
  }
 },
 "nbformat": 4,
 "nbformat_minor": 2
}
