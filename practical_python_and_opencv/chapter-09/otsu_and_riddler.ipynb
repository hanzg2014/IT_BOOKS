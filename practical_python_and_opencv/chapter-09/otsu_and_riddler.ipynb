{
 "cells": [
  {
   "cell_type": "code",
   "execution_count": 1,
   "metadata": {
    "collapsed": true
   },
   "outputs": [],
   "source": [
    "# USAGE\n",
    "# python otsu_and_riddler.py --image ../images/coins.png\n",
    "\n",
    "# Import the necessary packages\n",
    "import numpy as np\n",
    "import argparse\n",
    "import mahotas\n",
    "import cv2"
   ]
  },
  {
   "cell_type": "code",
   "execution_count": 2,
   "metadata": {
    "collapsed": false
   },
   "outputs": [
    {
     "data": {
      "text/plain": [
       "255"
      ]
     },
     "execution_count": 2,
     "metadata": {},
     "output_type": "execute_result"
    }
   ],
   "source": [
    "# Load the image, convert it to grayscale, and blur it slightly\n",
    "image = cv2.imread(\"../images/coins.png\")\n",
    "image = cv2.cvtColor(image, cv2.COLOR_BGR2GRAY)\n",
    "blurred = cv2.GaussianBlur(image, (5, 5), 0)\n",
    "cv2.imshow(\"Image\", image)\n",
    "cv2.waitKey(0)\n"
   ]
  },
  {
   "cell_type": "code",
   "execution_count": 3,
   "metadata": {
    "collapsed": false
   },
   "outputs": [
    {
     "name": "stdout",
     "output_type": "stream",
     "text": [
      "Otsu's threshold: 137\n"
     ]
    }
   ],
   "source": [
    "# OpenCV provides methods to use Otsu's thresholding, but I find\n",
    "# the mahotas implementation is more 'Pythonic'. Otsu's method\n",
    "# assumes that are two 'peaks' in the grayscale histogram. It finds\n",
    "# these peaks, and then returns a value we should threshold on.\n",
    "T = mahotas.thresholding.otsu(blurred)\n",
    "print \"Otsu's threshold: %d\" % (T)"
   ]
  },
  {
   "cell_type": "code",
   "execution_count": 4,
   "metadata": {
    "collapsed": false
   },
   "outputs": [
    {
     "data": {
      "text/plain": [
       "255"
      ]
     },
     "execution_count": 4,
     "metadata": {},
     "output_type": "execute_result"
    }
   ],
   "source": [
    "# Applying the threshold can be done using NumPy, where values\n",
    "# smaller than the threshold are set to zero, and values above\n",
    "# the threshold are set to 255 (white).\n",
    "thresh = image.copy()\n",
    "thresh[thresh > T] = 255\n",
    "thresh[thresh < 255] = 0\n",
    "thresh = cv2.bitwise_not(thresh)\n",
    "cv2.imshow(\"Otsu\", thresh)\n",
    "cv2.waitKey(0)"
   ]
  },
  {
   "cell_type": "code",
   "execution_count": 5,
   "metadata": {
    "collapsed": false
   },
   "outputs": [
    {
     "name": "stdout",
     "output_type": "stream",
     "text": [
      "Riddler-Calvard: 137\n"
     ]
    }
   ],
   "source": [
    "# An alternative is to use the Riddler-Calvard method\n",
    "T = mahotas.thresholding.rc(blurred)\n",
    "print \"Riddler-Calvard: %d\" % (T)\n"
   ]
  },
  {
   "cell_type": "code",
   "execution_count": 6,
   "metadata": {
    "collapsed": false
   },
   "outputs": [
    {
     "data": {
      "text/plain": [
       "255"
      ]
     },
     "execution_count": 6,
     "metadata": {},
     "output_type": "execute_result"
    }
   ],
   "source": [
    "thresh = image.copy()\n",
    "thresh[thresh > T] = 255\n",
    "thresh[thresh < 255] = 0\n",
    "thresh = cv2.bitwise_not(thresh)\n",
    "cv2.imshow(\"Riddler-Calvard\", thresh)\n",
    "cv2.waitKey(0)"
   ]
  }
 ],
 "metadata": {
  "kernelspec": {
   "display_name": "Python 2",
   "language": "python",
   "name": "python2"
  },
  "language_info": {
   "codemirror_mode": {
    "name": "ipython",
    "version": 2
   },
   "file_extension": ".py",
   "mimetype": "text/x-python",
   "name": "python",
   "nbconvert_exporter": "python",
   "pygments_lexer": "ipython2",
   "version": "2.7.13"
  }
 },
 "nbformat": 4,
 "nbformat_minor": 2
}
