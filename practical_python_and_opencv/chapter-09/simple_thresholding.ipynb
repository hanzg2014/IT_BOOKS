{
 "cells": [
  {
   "cell_type": "code",
   "execution_count": 9,
   "metadata": {
    "collapsed": true,
    "deletable": true,
    "editable": true
   },
   "outputs": [],
   "source": [
    "# USAGE\n",
    "# python simple_thresholding.py --image ../images/coins.png\n",
    "\n",
    "# Import the necessary packages\n",
    "import numpy as np\n",
    "import argparse\n",
    "import cv2"
   ]
  },
  {
   "cell_type": "code",
   "execution_count": 10,
   "metadata": {
    "collapsed": false,
    "deletable": true,
    "editable": true
   },
   "outputs": [
    {
     "data": {
      "text/plain": [
       "255"
      ]
     },
     "execution_count": 10,
     "metadata": {},
     "output_type": "execute_result"
    }
   ],
   "source": [
    "# Load the image, convert it to grayscale, and blur it slightly\n",
    "image = cv2.imread(\"../images/coins.png\")\n",
    "image = cv2.cvtColor(image, cv2.COLOR_BGR2GRAY)\n",
    "blurred = cv2.GaussianBlur(image, (5, 5), 0)\n",
    "image_blur = np.hstack([image, blurred])\n",
    "cv2.imshow(\"image_blur\", image_blur)\n",
    "cv2.waitKey(0)"
   ]
  },
  {
   "cell_type": "code",
   "execution_count": 11,
   "metadata": {
    "collapsed": false,
    "deletable": true,
    "editable": true
   },
   "outputs": [
    {
     "data": {
      "text/plain": [
       "255"
      ]
     },
     "execution_count": 11,
     "metadata": {},
     "output_type": "execute_result"
    }
   ],
   "source": [
    "# Let's apply basic thresholding. The first parameter is the\n",
    "# image we want to threshold, the second value is is our threshold\n",
    "# cehck. If a pixel value is greater than our threshold (in this\n",
    "# case, 155), we it to be WHITE, otherwise it is BLACK.\n",
    "(T, threshInv) = cv2.threshold(blurred, 155, 255, cv2.THRESH_BINARY_INV)\n",
    "cv2.imshow(\"Threshold Binary Inverse\", threshInv)\n",
    "cv2.waitKey(0)"
   ]
  },
  {
   "cell_type": "code",
   "execution_count": 7,
   "metadata": {
    "collapsed": false,
    "deletable": true,
    "editable": true
   },
   "outputs": [
    {
     "data": {
      "text/plain": [
       "255"
      ]
     },
     "execution_count": 7,
     "metadata": {},
     "output_type": "execute_result"
    }
   ],
   "source": [
    "# Using a normal we can change the last argument in the function\n",
    "# to make the coins black rather than white.\n",
    "(T, thresh) = cv2.threshold(blurred, 155, 255, cv2.THRESH_BINARY)\n",
    "cv2.imshow(\"Threshold Binary\", thresh)\n",
    "cv2.waitKey(0)"
   ]
  },
  {
   "cell_type": "code",
   "execution_count": 8,
   "metadata": {
    "collapsed": false,
    "deletable": true,
    "editable": true
   },
   "outputs": [
    {
     "data": {
      "text/plain": [
       "255"
      ]
     },
     "execution_count": 8,
     "metadata": {},
     "output_type": "execute_result"
    }
   ],
   "source": [
    "# Finally, let's use our threshold as a mask and visualize only\n",
    "# the coins in the image\n",
    "cv2.imshow(\"Coins\", cv2.bitwise_and(image, image, mask = threshInv))\n",
    "cv2.waitKey(0)"
   ]
  }
 ],
 "metadata": {
  "kernelspec": {
   "display_name": "Python 2",
   "language": "python",
   "name": "python2"
  },
  "language_info": {
   "codemirror_mode": {
    "name": "ipython",
    "version": 2
   },
   "file_extension": ".py",
   "mimetype": "text/x-python",
   "name": "python",
   "nbconvert_exporter": "python",
   "pygments_lexer": "ipython2",
   "version": "2.7.13"
  }
 },
 "nbformat": 4,
 "nbformat_minor": 2
}
