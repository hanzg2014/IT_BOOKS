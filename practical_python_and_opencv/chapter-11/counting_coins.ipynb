{
 "cells": [
  {
   "cell_type": "code",
   "execution_count": 2,
   "metadata": {
    "collapsed": true,
    "deletable": true,
    "editable": true
   },
   "outputs": [],
   "source": [
    "# USAGE\n",
    "# python counting_coins.py --image ../images/coins.png\n",
    "# Import the necessary packages\n",
    "import numpy as np\n",
    "import argparse\n",
    "import cv2\n",
    "import cv"
   ]
  },
  {
   "cell_type": "code",
   "execution_count": 3,
   "metadata": {
    "collapsed": false,
    "deletable": true,
    "editable": true
   },
   "outputs": [],
   "source": [
    "# Load the image, convert it to grayscale, and blur it slightly\n",
    "image = cv2.imread(\"../images/coins.png\")\n",
    "gray = cv2.cvtColor(image, cv2.COLOR_BGR2GRAY)\n",
    "blurred = cv2.GaussianBlur(gray, (11, 11), 0)\n",
    "\n",
    "cv2.namedWindow(\"Image\", cv2.CV_WINDOW_AUTOSIZE)\n",
    "cv2.startWindowThread()\n",
    "cv2.imshow(\"Image\", image)\n"
   ]
  },
  {
   "cell_type": "code",
   "execution_count": 3,
   "metadata": {
    "collapsed": false,
    "deletable": true,
    "editable": true
   },
   "outputs": [
    {
     "data": {
      "text/plain": [
       "27"
      ]
     },
     "execution_count": 3,
     "metadata": {},
     "output_type": "execute_result"
    }
   ],
   "source": [
    "# The first thing we are going to do is apply edge detection to\n",
    "# the image to reveal the outlines of the coins\n",
    "edged = cv2.Canny(blurred, 30, 150)\n",
    "cv2.imshow(\"Edges\", edged)\n",
    "cv2.waitKey(0)"
   ]
  },
  {
   "cell_type": "code",
   "execution_count": 46,
   "metadata": {
    "collapsed": false
   },
   "outputs": [],
   "source": [
    "(im2, contours, hierarchy) = cv2.findContours(edged.copy(), cv2.RETR_EXTERNAL, cv2.CHAIN_APPROX_SIMPLE)"
   ]
  },
  {
   "cell_type": "code",
   "execution_count": 47,
   "metadata": {
    "collapsed": false
   },
   "outputs": [
    {
     "data": {
      "text/plain": [
       "array([[0, 0, 0, ..., 0, 0, 0],\n",
       "       [0, 0, 0, ..., 0, 0, 0],\n",
       "       [0, 0, 0, ..., 0, 0, 0],\n",
       "       ..., \n",
       "       [0, 0, 0, ..., 0, 0, 0],\n",
       "       [0, 0, 0, ..., 0, 0, 0],\n",
       "       [0, 0, 0, ..., 0, 0, 0]], dtype=uint8)"
      ]
     },
     "execution_count": 47,
     "metadata": {},
     "output_type": "execute_result"
    }
   ],
   "source": [
    "im2"
   ]
  },
  {
   "cell_type": "code",
   "execution_count": 42,
   "metadata": {
    "collapsed": false
   },
   "outputs": [
    {
     "data": {
      "text/plain": [
       "255"
      ]
     },
     "execution_count": 42,
     "metadata": {},
     "output_type": "execute_result"
    }
   ],
   "source": [
    "cv2.imshow(\"im2\",im2)\n",
    "cv2.waitKey(0)"
   ]
  },
  {
   "cell_type": "code",
   "execution_count": 45,
   "metadata": {
    "collapsed": false
   },
   "outputs": [
    {
     "data": {
      "text/plain": [
       "255"
      ]
     },
     "execution_count": 45,
     "metadata": {},
     "output_type": "execute_result"
    }
   ],
   "source": [
    "cv2.imshow(\"hierarchy\",hierarchy)\n",
    "cv2.waitKey(0)"
   ]
  },
  {
   "cell_type": "code",
   "execution_count": 40,
   "metadata": {
    "collapsed": false
   },
   "outputs": [
    {
     "data": {
      "text/plain": [
       "array([[126, 183],\n",
       "       [125, 184],\n",
       "       [122, 184],\n",
       "       [121, 185]])"
      ]
     },
     "execution_count": 40,
     "metadata": {},
     "output_type": "execute_result"
    }
   ],
   "source": [
    "np.array([[126, 183],[125, 184],[122, 184],[121, 185]])"
   ]
  },
  {
   "cell_type": "code",
   "execution_count": 44,
   "metadata": {
    "collapsed": false
   },
   "outputs": [
    {
     "data": {
      "text/plain": [
       "array([[[ 1, -1, -1, -1],\n",
       "        [ 2,  0, -1, -1],\n",
       "        [ 3,  1, -1, -1],\n",
       "        [ 4,  2, -1, -1],\n",
       "        [ 5,  3, -1, -1],\n",
       "        [ 6,  4, -1, -1],\n",
       "        [ 7,  5, -1, -1],\n",
       "        [ 8,  6, -1, -1],\n",
       "        [-1,  7, -1, -1]]])"
      ]
     },
     "execution_count": 44,
     "metadata": {},
     "output_type": "execute_result"
    }
   ],
   "source": [
    "hierarchy"
   ]
  },
  {
   "cell_type": "code",
   "execution_count": 62,
   "metadata": {
    "collapsed": false
   },
   "outputs": [
    {
     "name": "stdout",
     "output_type": "stream",
     "text": [
      "Help on built-in function threshold:\n",
      "\n",
      "threshold(...)\n",
      "    threshold(src, thresh, maxval, type[, dst]) -> retval, dst\n",
      "\n"
     ]
    }
   ],
   "source": [
    "help(cv2.threshold)"
   ]
  },
  {
   "cell_type": "code",
   "execution_count": 52,
   "metadata": {
    "collapsed": false,
    "deletable": true,
    "editable": true
   },
   "outputs": [
    {
     "name": "stdout",
     "output_type": "stream",
     "text": [
      "I count 9 coins in this image\n"
     ]
    }
   ],
   "source": [
    "# Find contours in the edged image.\n",
    "# NOTE: The cv2.findContours method is DESTRUCTIVE to the image\n",
    "# you pass in. If you intend on reusing your edged image, be\n",
    "# sure to copy it before calling cv2.findContours\n",
    "\n",
    "\n",
    "#findContours(...)\n",
    "#    findContours(image, mode, method[, contours[, hierarchy[, offset]]]) -> image, contours, hierarchy\n",
    "\n",
    "(img2, cnts, _) = cv2.findContours(edged.copy(), cv2.RETR_EXTERNAL, cv2.CHAIN_APPROX_SIMPLE)\n",
    "\n",
    "# How many contours did we find?\n",
    "print \"I count %d coins in this image\" % (len(cnts))"
   ]
  },
  {
   "cell_type": "code",
   "execution_count": 53,
   "metadata": {
    "collapsed": false,
    "deletable": true,
    "editable": true,
    "scrolled": true
   },
   "outputs": [
    {
     "data": {
      "text/plain": [
       "255"
      ]
     },
     "execution_count": 53,
     "metadata": {},
     "output_type": "execute_result"
    }
   ],
   "source": [
    "# Let's highlight the coins in the original image by drawing a\n",
    "# green circle around them\n",
    "coins = image.copy()\n",
    "cv2.drawContours(coins, cnts, -1, (0, 255, 0), 2) # use -1 as the third parameter to draw all the contours\n",
    "cv2.imshow(\"Coins\", coins)\n",
    "cv2.waitKey(0)\n",
    "\n"
   ]
  },
  {
   "cell_type": "code",
   "execution_count": null,
   "metadata": {
    "collapsed": true
   },
   "outputs": [],
   "source": []
  },
  {
   "cell_type": "code",
   "execution_count": 61,
   "metadata": {
    "collapsed": false,
    "deletable": true,
    "editable": true
   },
   "outputs": [
    {
     "name": "stdout",
     "output_type": "stream",
     "text": [
      "Coin #1\n",
      "Coin #2\n",
      "Coin #3\n",
      "Coin #4\n",
      "Coin #5\n",
      "Coin #6\n",
      "Coin #7\n",
      "Coin #8\n",
      "Coin #9\n"
     ]
    }
   ],
   "source": [
    "# Now, let's loop over each contour\n",
    "for (i, c) in enumerate(cnts):\n",
    "\t# We can compute the 'bounding box' for each contour, which is\n",
    "\t# the rectangle that encloses the contour\n",
    "\t(x, y, w, h) = cv2.boundingRect(c)\n",
    "\n",
    "\t# Now that we have the contour, let's extract it using array\n",
    "\t# slices\n",
    "\tprint \"Coin #%d\" % (i + 1)\n",
    "\tcoin = image[y:y + h, x:x + w]\n",
    "\tcv2.imshow(\"Coin\", coin)\n",
    "\n",
    "\t# Just for fun, let's construct a mask for the coin by finding\n",
    "\t# The minumum enclosing circle of the contour\n",
    "\tmask = np.zeros(image.shape[:2], dtype = \"uint8\")\n",
    "\t((centerX, centerY), radius) = cv2.minEnclosingCircle(c)\n",
    "\tcv2.circle(mask, (int(centerX), int(centerY)), int(radius), 255, -1)\n",
    "\tmask = mask[y:y + h, x:x + w]\n",
    "\tcv2.imshow(\"Masked Coin\", cv2.bitwise_and(coin, coin, mask = mask))\n",
    "\tcv2.waitKey(0)"
   ]
  }
 ],
 "metadata": {
  "kernelspec": {
   "display_name": "Python 2",
   "language": "python",
   "name": "python2"
  },
  "language_info": {
   "codemirror_mode": {
    "name": "ipython",
    "version": 2
   },
   "file_extension": ".py",
   "mimetype": "text/x-python",
   "name": "python",
   "nbconvert_exporter": "python",
   "pygments_lexer": "ipython2",
   "version": "2.7.7"
  }
 },
 "nbformat": 4,
 "nbformat_minor": 2
}
