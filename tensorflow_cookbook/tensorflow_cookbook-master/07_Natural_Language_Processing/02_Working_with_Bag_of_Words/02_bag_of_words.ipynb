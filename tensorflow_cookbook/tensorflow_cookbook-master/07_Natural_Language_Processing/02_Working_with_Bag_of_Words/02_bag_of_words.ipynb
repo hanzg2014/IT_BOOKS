{
 "cells": [
  {
   "cell_type": "markdown",
   "metadata": {
    "deletable": true,
    "editable": true
   },
   "source": [
    "# Working with Bag of Words\n",
    "\n",
    "-------------------------------------\n",
    "\n",
    "In this example, we will download and preprocess the ham/spam text data.  We will then use a one-hot-encoding to make a bag of words set of features to use in logistic regression.\n",
    "\n",
    "We will use these one-hot-vectors for logistic regression to predict if a text is spam or ham.\n",
    "\n",
    "We start by loading the necessary libraries."
   ]
  },
  {
   "cell_type": "code",
   "execution_count": 1,
   "metadata": {
    "collapsed": true,
    "deletable": true,
    "editable": true
   },
   "outputs": [],
   "source": [
    "import tensorflow as tf\n",
    "import matplotlib.pyplot as plt\n",
    "import os\n",
    "import numpy as np\n",
    "import csv\n",
    "import string\n",
    "import requests\n",
    "import io\n",
    "from zipfile import ZipFile\n",
    "from tensorflow.contrib import learn\n",
    "from tensorflow.python.framework import ops\n",
    "ops.reset_default_graph()"
   ]
  },
  {
   "cell_type": "markdown",
   "metadata": {
    "deletable": true,
    "editable": true
   },
   "source": [
    "We start a computation graph session."
   ]
  },
  {
   "cell_type": "code",
   "execution_count": 2,
   "metadata": {
    "collapsed": true,
    "deletable": true,
    "editable": true
   },
   "outputs": [],
   "source": [
    "# Start a graph session\n",
    "sess = tf.Session()"
   ]
  },
  {
   "cell_type": "markdown",
   "metadata": {
    "deletable": true,
    "editable": true
   },
   "source": [
    "Check if data was downloaded, otherwise download it and save for future use"
   ]
  },
  {
   "cell_type": "code",
   "execution_count": 5,
   "metadata": {
    "collapsed": false,
    "deletable": true,
    "editable": true
   },
   "outputs": [],
   "source": [
    "save_file_name = os.path.join('temp','temp_spam_data.csv')\n",
    "\n",
    "# Create directory if it doesn't exist\n",
    "if not os.path.exists('temp'):\n",
    "    os.makedirs('temp')\n",
    "\n",
    "if os.path.isfile(save_file_name):\n",
    "    text_data = []\n",
    "    with open(save_file_name, 'r') as temp_output_file:\n",
    "        reader = csv.reader(temp_output_file)\n",
    "        for row in reader:\n",
    "            text_data.append(row)\n",
    "else:\n",
    "    zip_url = 'http://archive.ics.uci.edu/ml/machine-learning-databases/00228/smsspamcollection.zip'\n",
    "    r = requests.get(zip_url)\n",
    "    z = ZipFile(io.BytesIO(r.content))\n",
    "    file = z.read('SMSSpamCollection')\n",
    "    # Format Data\n",
    "    text_data = file.decode()\n",
    "    text_data = text_data.encode('ascii',errors='ignore')\n",
    "    text_data = text_data.decode().split('\\n')\n",
    "    text_data = [x.split('\\t') for x in text_data if len(x)>=1]\n",
    "    \n",
    "    # And write to csv\n",
    "    with open(save_file_name, 'w') as temp_output_file:\n",
    "        writer = csv.writer(temp_output_file)\n",
    "        writer.writerows(text_data)\n",
    "\n",
    "texts = [x[1] for x in text_data]\n",
    "target = [x[0] for x in text_data]"
   ]
  },
  {
   "cell_type": "markdown",
   "metadata": {
    "deletable": true,
    "editable": true
   },
   "source": [
    "To reduce the potential vocabulary size, we normalize the text. To do this, we remove the influence of capitalization and numbers in the text."
   ]
  },
  {
   "cell_type": "code",
   "execution_count": 12,
   "metadata": {
    "collapsed": true,
    "deletable": true,
    "editable": true
   },
   "outputs": [],
   "source": [
    "# Relabel 'spam' as 1, 'ham' as 0\n",
    "target = [1 if x=='spam' else 0 for x in target]\n",
    "\n",
    "# Normalize text\n",
    "# Lower case\n",
    "texts = [x.lower() for x in texts]\n",
    "\n",
    "# Remove punctuation\n",
    "texts = [''.join(c for c in x if c not in string.punctuation) for x in texts]\n",
    "\n",
    "# Remove numbers\n",
    "texts = [''.join(c for c in x if c not in '0123456789') for x in texts]\n",
    "\n",
    "# Trim extra whitespace\n",
    "texts = [' '.join(x.split()) for x in texts]"
   ]
  },
  {
   "cell_type": "markdown",
   "metadata": {
    "deletable": true,
    "editable": true
   },
   "source": [
    "To determine a good sentence length to pad/crop at, we plot a histogram of text lengths (in words)."
   ]
  },
  {
   "cell_type": "code",
   "execution_count": 14,
   "metadata": {
    "collapsed": false,
    "deletable": true,
    "editable": true
   },
   "outputs": [
    {
     "data": {
      "image/png": "[encoded data removed]",
      "text/plain": [
       "<matplotlib.figure.Figure at 0x7fc5b830d630>"
      ]
     },
     "metadata": {},
     "output_type": "display_data"
    }
   ],
   "source": [
    "# Plot histogram of text lengths\n",
    "text_lengths = [len(x.split()) for x in texts]\n",
    "text_lengths = [x for x in text_lengths if x < 50]\n",
    "plt.hist(text_lengths, bins=25)\n",
    "plt.title('Histogram of # of Words in Texts')\n",
    "plt.show()"
   ]
  },
  {
   "cell_type": "markdown",
   "metadata": {
    "deletable": true,
    "editable": true
   },
   "source": [
    "We crop/pad all texts to be 25 words long.  We also will filter out any words that do not appear at least 3 times."
   ]
  },
  {
   "cell_type": "code",
   "execution_count": 15,
   "metadata": {
    "collapsed": true,
    "deletable": true,
    "editable": true
   },
   "outputs": [],
   "source": [
    "# Choose max text word length at 25\n",
    "sentence_size = 25\n",
    "min_word_freq = 3"
   ]
  },
  {
   "cell_type": "markdown",
   "metadata": {
    "deletable": true,
    "editable": true
   },
   "source": [
    "TensorFlow has a built in text processing function called `VocabularyProcessor()`. We use this function to process the texts."
   ]
  },
  {
   "cell_type": "code",
   "execution_count": 16,
   "metadata": {
    "collapsed": true,
    "deletable": true,
    "editable": true
   },
   "outputs": [],
   "source": [
    "# Setup vocabulary processor\n",
    "vocab_processor = learn.preprocessing.VocabularyProcessor(sentence_size, min_frequency=min_word_freq)\n",
    "\n",
    "# Have to fit transform to get length of unique words.\n",
    "vocab_processor.fit_transform(texts)\n",
    "embedding_size = len(vocab_processor.vocabulary_)"
   ]
  },
  {
   "cell_type": "markdown",
   "metadata": {
    "deletable": true,
    "editable": true
   },
   "source": [
    "To test our logistic model (predicting spam/ham), we split the texts into a train and test set."
   ]
  },
  {
   "cell_type": "code",
   "execution_count": 17,
   "metadata": {
    "collapsed": true,
    "deletable": true,
    "editable": true
   },
   "outputs": [],
   "source": [
    "# Split up data set into train/test\n",
    "train_indices = np.random.choice(len(texts), round(len(texts)*0.8), replace=False)\n",
    "test_indices = np.array(list(set(range(len(texts))) - set(train_indices)))\n",
    "texts_train = [x for ix, x in enumerate(texts) if ix in train_indices]\n",
    "texts_test = [x for ix, x in enumerate(texts) if ix in test_indices]\n",
    "target_train = [x for ix, x in enumerate(target) if ix in train_indices]\n",
    "target_test = [x for ix, x in enumerate(target) if ix in test_indices]"
   ]
  },
  {
   "cell_type": "markdown",
   "metadata": {
    "deletable": true,
    "editable": true
   },
   "source": [
    "For one-hot-encoding, we setup an identity matrix for the TensorFlow embedding lookup.\n",
    "\n",
    "We also create the variables and placeholders for the logistic regression we will perform."
   ]
  },
  {
   "cell_type": "code",
   "execution_count": 18,
   "metadata": {
    "collapsed": true,
    "deletable": true,
    "editable": true
   },
   "outputs": [],
   "source": [
    "# Setup Index Matrix for one-hot-encoding\n",
    "identity_mat = tf.diag(tf.ones(shape=[embedding_size]))\n",
    "\n",
    "# Create variables for logistic regression\n",
    "A = tf.Variable(tf.random_normal(shape=[embedding_size,1]))\n",
    "b = tf.Variable(tf.random_normal(shape=[1,1]))\n",
    "\n",
    "# Initialize placeholders\n",
    "x_data = tf.placeholder(shape=[sentence_size], dtype=tf.int32)\n",
    "y_target = tf.placeholder(shape=[1, 1], dtype=tf.float32)"
   ]
  },
  {
   "cell_type": "markdown",
   "metadata": {
    "deletable": true,
    "editable": true
   },
   "source": [
    "Next, we create the text-word embedding lookup with the prior identity matrix.\n",
    "\n",
    "Our logistic regression will use the counts of the words as the input.  The counts are created by summing the embedding output across the rows.\n",
    "\n",
    "Then we declare the logistic regression operations. Note that we do not wrap the logistic operations in the sigmoid function because this will be done in the loss function later on."
   ]
  },
  {
   "cell_type": "code",
   "execution_count": 20,
   "metadata": {
    "collapsed": true,
    "deletable": true,
    "editable": true
   },
   "outputs": [],
   "source": [
    "# Text-Vocab Embedding\n",
    "x_embed = tf.nn.embedding_lookup(identity_mat, x_data)\n",
    "x_col_sums = tf.reduce_sum(x_embed, 0)\n",
    "\n",
    "# Declare model operations\n",
    "x_col_sums_2D = tf.expand_dims(x_col_sums, 0)\n",
    "model_output = tf.add(tf.matmul(x_col_sums_2D, A), b)"
   ]
  },
  {
   "cell_type": "markdown",
   "metadata": {
    "deletable": true,
    "editable": true
   },
   "source": [
    "Now we declare our loss function (which has the sigmoid built in), prediction operations, optimizer, and initialize the variables."
   ]
  },
  {
   "cell_type": "code",
   "execution_count": 21,
   "metadata": {
    "collapsed": true,
    "deletable": true,
    "editable": true
   },
   "outputs": [],
   "source": [
    "# Declare loss function (Cross Entropy loss)\n",
    "loss = tf.reduce_mean(tf.nn.sigmoid_cross_entropy_with_logits(logits=model_output, labels=y_target))\n",
    "\n",
    "# Prediction operation\n",
    "prediction = tf.sigmoid(model_output)\n",
    "\n",
    "# Declare optimizer\n",
    "my_opt = tf.train.GradientDescentOptimizer(0.001)\n",
    "train_step = my_opt.minimize(loss)\n",
    "\n",
    "# Intitialize Variables\n",
    "init = tf.global_variables_initializer()\n",
    "sess.run(init)"
   ]
  },
  {
   "cell_type": "markdown",
   "metadata": {
    "deletable": true,
    "editable": true
   },
   "source": [
    "Now we loop through the iterations and fit the logistic regression on wether or not the text is spam or ham."
   ]
  },
  {
   "cell_type": "code",
   "execution_count": 22,
   "metadata": {
    "collapsed": false,
    "deletable": true,
    "editable": true
   },
   "outputs": [
    {
     "name": "stdout",
     "output_type": "stream",
     "text": [
      "Starting Training Over 4459 Sentences.\n",
      "Training Observation #10: Loss = 6.48148e-09\n",
      "Training Observation #20: Loss = 27.843\n",
      "Training Observation #30: Loss = 5.70256\n",
      "Training Observation #40: Loss = 32.9266\n",
      "Training Observation #50: Loss = 29.7551\n",
      "Training Observation #60: Loss = 23.1056\n",
      "Training Observation #70: Loss = 2.52858\n",
      "Training Observation #80: Loss = 18.3234\n",
      "Training Observation #90: Loss = 17.5812\n",
      "Training Observation #100: Loss = 13.6586\n",
      "Training Observation #110: Loss = 3.12693\n",
      "Training Observation #120: Loss = 7.68214\n",
      "Training Observation #130: Loss = 8.74553\n",
      "Training Observation #140: Loss = 0.0183878\n",
      "Training Observation #150: Loss = 3.11211\n",
      "Training Observation #160: Loss = 1.52756\n",
      "Training Observation #170: Loss = 1.56842\n",
      "Training Observation #180: Loss = 1.61541e-05\n",
      "Training Observation #190: Loss = 1.4735\n",
      "Training Observation #200: Loss = 0.0730168\n",
      "Training Observation #210: Loss = 0.484521\n",
      "Training Observation #220: Loss = 0.00873441\n",
      "Training Observation #230: Loss = 0.442549\n",
      "Training Observation #240: Loss = 1.28976\n",
      "Training Observation #250: Loss = 0.00824152\n",
      "Training Observation #260: Loss = 8.27901\n",
      "Training Observation #270: Loss = 0.000957874\n",
      "Training Observation #280: Loss = 4.14285\n",
      "Training Observation #290: Loss = 0.000154596\n",
      "Training Observation #300: Loss = 0.000251061\n",
      "Training Observation #310: Loss = 0.19521\n",
      "Training Observation #320: Loss = 0.00676112\n",
      "Training Observation #330: Loss = 0.003429\n",
      "Training Observation #340: Loss = 0.000129619\n",
      "Training Observation #350: Loss = 0.000230124\n",
      "Training Observation #360: Loss = 1.81704\n",
      "Training Observation #370: Loss = 2.84762\n",
      "Training Observation #380: Loss = 4.34171e-05\n",
      "Training Observation #390: Loss = 0.0665418\n",
      "Training Observation #400: Loss = 0.000639701\n",
      "Training Observation #410: Loss = 1.91387\n",
      "Training Observation #420: Loss = 0.352442\n",
      "Training Observation #430: Loss = 0.887691\n",
      "Training Observation #440: Loss = 0.655031\n",
      "Training Observation #450: Loss = 0.00753186\n",
      "Training Observation #460: Loss = 0.000254157\n",
      "Training Observation #470: Loss = 0.00193831\n",
      "Training Observation #480: Loss = 1.74284e-05\n",
      "Training Observation #490: Loss = 0.0234245\n",
      "Training Observation #500: Loss = 7.40499e-05\n",
      "Training Observation #510: Loss = 0.00213846\n",
      "Training Observation #520: Loss = 1.43917\n",
      "Training Observation #530: Loss = 0.00558707\n",
      "Training Observation #540: Loss = 3.92532\n",
      "Training Observation #550: Loss = 3.44169\n",
      "Training Observation #560: Loss = 0.000283513\n",
      "Training Observation #570: Loss = 0.422031\n",
      "Training Observation #580: Loss = 0.903657\n",
      "Training Observation #590: Loss = 0.0635175\n",
      "Training Observation #600: Loss = 0.000479164\n",
      "Training Observation #610: Loss = 7.59917\n",
      "Training Observation #620: Loss = 0.025922\n",
      "Training Observation #630: Loss = 3.96049\n",
      "Training Observation #640: Loss = 0.0014317\n",
      "Training Observation #650: Loss = 9.48674\n",
      "Training Observation #660: Loss = 0.10947\n",
      "Training Observation #670: Loss = 0.000590596\n",
      "Training Observation #680: Loss = 0.40504\n",
      "Training Observation #690: Loss = 5.81883e-05\n",
      "Training Observation #700: Loss = 0.0194549\n",
      "Training Observation #710: Loss = 0.0283765\n",
      "Training Observation #720: Loss = 0.0645599\n",
      "Training Observation #730: Loss = 0.0178464\n",
      "Training Observation #740: Loss = 0.0600494\n",
      "Training Observation #750: Loss = 1.46797\n",
      "Training Observation #760: Loss = 1.51799\n",
      "Training Observation #770: Loss = 0.000164197\n",
      "Training Observation #780: Loss = 1.65718\n",
      "Training Observation #790: Loss = 0.10089\n",
      "Training Observation #800: Loss = 0.000133203\n",
      "Training Observation #810: Loss = 0.228781\n",
      "Training Observation #820: Loss = 0.00327221\n",
      "Training Observation #830: Loss = 0.00440546\n",
      "Training Observation #840: Loss = 0.00176143\n",
      "Training Observation #850: Loss = 0.000172233\n",
      "Training Observation #860: Loss = 0.00213126\n",
      "Training Observation #870: Loss = 0.000967121\n",
      "Training Observation #880: Loss = 0.145756\n",
      "Training Observation #890: Loss = 2.63557\n",
      "Training Observation #900: Loss = 0.000709926\n",
      "Training Observation #910: Loss = 9.08813e-05\n",
      "Training Observation #920: Loss = 0.000279077\n",
      "Training Observation #930: Loss = 0.212302\n",
      "Training Observation #940: Loss = 9.53566e-06\n",
      "Training Observation #950: Loss = 0.011229\n",
      "Training Observation #960: Loss = 7.16798\n",
      "Training Observation #970: Loss = 0.0209019\n",
      "Training Observation #980: Loss = 0.00607101\n",
      "Training Observation #990: Loss = 0.00087803\n",
      "Training Observation #1000: Loss = 0.0137625\n",
      "Training Observation #1010: Loss = 0.189269\n",
      "Training Observation #1020: Loss = 4.62621\n",
      "Training Observation #1030: Loss = 1.53084e-05\n",
      "Training Observation #1040: Loss = 0.00014175\n",
      "Training Observation #1050: Loss = 0.000281536\n",
      "Training Observation #1060: Loss = 3.41632e-05\n",
      "Training Observation #1070: Loss = 0.00238144\n",
      "Training Observation #1080: Loss = 0.0102618\n",
      "Training Observation #1090: Loss = 3.41634\n",
      "Training Observation #1100: Loss = 0.0135518\n",
      "Training Observation #1110: Loss = 0.00144327\n",
      "Training Observation #1120: Loss = 4.58633\n",
      "Training Observation #1130: Loss = 4.14171e-05\n",
      "Training Observation #1140: Loss = 4.51173\n",
      "Training Observation #1150: Loss = 0.0108765\n",
      "Training Observation #1160: Loss = 0.000310451\n",
      "Training Observation #1170: Loss = 0.0503959\n",
      "Training Observation #1180: Loss = 3.20676e-05\n",
      "Training Observation #1190: Loss = 0.0209048\n",
      "Training Observation #1200: Loss = 0.000108974\n",
      "Training Observation #1210: Loss = 0.000111129\n",
      "Training Observation #1220: Loss = 0.00562554\n",
      "Training Observation #1230: Loss = 0.00338602\n",
      "Training Observation #1240: Loss = 0.0250486\n",
      "Training Observation #1250: Loss = 3.76995e-05\n",
      "Training Observation #1260: Loss = 2.77378\n",
      "Training Observation #1270: Loss = 1.01628\n",
      "Training Observation #1280: Loss = 0.120518\n",
      "Training Observation #1290: Loss = 5.52809e-05\n",
      "Training Observation #1300: Loss = 0.904054\n",
      "Training Observation #1310: Loss = 0.0396985\n",
      "Training Observation #1320: Loss = 5.69831\n",
      "Training Observation #1330: Loss = 0.000274871\n",
      "Training Observation #1340: Loss = 5.51912\n",
      "Training Observation #1350: Loss = 4.81855\n",
      "Training Observation #1360: Loss = 4.85577e-05\n",
      "Training Observation #1370: Loss = 0.00118256\n",
      "Training Observation #1380: Loss = 0.0407602\n",
      "Training Observation #1390: Loss = 0.227239\n",
      "Training Observation #1400: Loss = 9.06034e-05\n",
      "Training Observation #1410: Loss = 0.019178\n",
      "Training Observation #1420: Loss = 0.00415389\n",
      "Training Observation #1430: Loss = 0.0349347\n",
      "Training Observation #1440: Loss = 0.000293786\n",
      "Training Observation #1450: Loss = 0.00231091\n",
      "Training Observation #1460: Loss = 0.00487661\n",
      "Training Observation #1470: Loss = 3.33167\n",
      "Training Observation #1480: Loss = 0.00400296\n",
      "Training Observation #1490: Loss = 0.000587755\n",
      "Training Observation #1500: Loss = 3.76839\n",
      "Training Observation #1510: Loss = 4.993\n",
      "Training Observation #1520: Loss = 4.73533e-05\n",
      "Training Observation #1530: Loss = 8.03468e-05\n",
      "Training Observation #1540: Loss = 8.82663e-05\n",
      "Training Observation #1550: Loss = 6.62655e-05\n",
      "Training Observation #1560: Loss = 0.000989969\n",
      "Training Observation #1570: Loss = 0.00142312\n",
      "Training Observation #1580: Loss = 0.000195806\n",
      "Training Observation #1590: Loss = 1.1719\n",
      "Training Observation #1600: Loss = 1.72004\n",
      "Training Observation #1610: Loss = 0.000179706\n",
      "Training Observation #1620: Loss = 0.00456701\n",
      "Training Observation #1630: Loss = 0.00835134\n",
      "Training Observation #1640: Loss = 0.000651991\n",
      "Training Observation #1650: Loss = 0.0151328\n",
      "Training Observation #1660: Loss = 0.000384711\n",
      "Training Observation #1670: Loss = 2.83569\n",
      "Training Observation #1680: Loss = 0.212765\n",
      "Training Observation #1690: Loss = 4.74712e-05\n",
      "Training Observation #1700: Loss = 0.0214706\n",
      "Training Observation #1710: Loss = 0.0636759\n",
      "Training Observation #1720: Loss = 0.032685\n",
      "Training Observation #1730: Loss = 0.00209847\n",
      "Training Observation #1740: Loss = 0.000386119\n",
      "Training Observation #1750: Loss = 0.00154076\n",
      "Training Observation #1760: Loss = 0.485422\n",
      "Training Observation #1770: Loss = 0.00337107\n",
      "Training Observation #1780: Loss = 0.017524\n",
      "Training Observation #1790: Loss = 0.000236175\n",
      "Training Observation #1800: Loss = 2.78001\n",
      "Training Observation #1810: Loss = 9.99079e-05\n",
      "Training Observation #1820: Loss = 1.88643\n",
      "Training Observation #1830: Loss = 0.00222051\n",
      "Training Observation #1840: Loss = 0.308717\n",
      "Training Observation #1850: Loss = 0.0020452\n",
      "Training Observation #1860: Loss = 0.000425804\n",
      "Training Observation #1870: Loss = 2.53432\n",
      "Training Observation #1880: Loss = 0.0039632\n",
      "Training Observation #1890: Loss = 5.47626\n",
      "Training Observation #1900: Loss = 0.000963575\n",
      "Training Observation #1910: Loss = 0.0493747\n",
      "Training Observation #1920: Loss = 2.86763\n",
      "Training Observation #1930: Loss = 0.0468222\n",
      "Training Observation #1940: Loss = 1.01668\n",
      "Training Observation #1950: Loss = 0.00104372\n",
      "Training Observation #1960: Loss = 0.0615539\n",
      "Training Observation #1970: Loss = 0.021354\n",
      "Training Observation #1980: Loss = 0.512842\n",
      "Training Observation #1990: Loss = 1.85469\n",
      "Training Observation #2000: Loss = 0.0113987\n",
      "Training Observation #2010: Loss = 7.93022e-05\n",
      "Training Observation #2020: Loss = 7.46718e-05\n",
      "Training Observation #2030: Loss = 0.00645353\n",
      "Training Observation #2040: Loss = 0.336722\n",
      "Training Observation #2050: Loss = 9.02381\n",
      "Training Observation #2060: Loss = 0.0992199\n",
      "Training Observation #2070: Loss = 0.000126145\n",
      "Training Observation #2080: Loss = 0.0366515\n",
      "Training Observation #2090: Loss = 1.15903e-05\n",
      "Training Observation #2100: Loss = 0.00786987\n",
      "Training Observation #2110: Loss = 0.00133572\n",
      "Training Observation #2120: Loss = 0.000500056\n",
      "Training Observation #2130: Loss = 0.000136341\n",
      "Training Observation #2140: Loss = 0.00105793\n",
      "Training Observation #2150: Loss = 0.00100696\n",
      "Training Observation #2160: Loss = 0.000111375\n",
      "Training Observation #2170: Loss = 4.17031\n",
      "Training Observation #2180: Loss = 0.000164416\n",
      "Training Observation #2190: Loss = 0.125425\n",
      "Training Observation #2200: Loss = 0.00139419\n",
      "Training Observation #2210: Loss = 0.608527\n",
      "Training Observation #2220: Loss = 5.50633\n",
      "Training Observation #2230: Loss = 0.107646\n",
      "Training Observation #2240: Loss = 0.000835841\n",
      "Training Observation #2250: Loss = 6.38319\n",
      "Training Observation #2260: Loss = 0.00113056\n",
      "Training Observation #2270: Loss = 0.00110541\n",
      "Training Observation #2280: Loss = 0.0036688\n",
      "Training Observation #2290: Loss = 2.75188\n",
      "Training Observation #2300: Loss = 0.0356971\n",
      "Training Observation #2310: Loss = 0.000276852\n",
      "Training Observation #2320: Loss = 0.00615437\n",
      "Training Observation #2330: Loss = 3.748\n",
      "Training Observation #2340: Loss = 0.148813\n",
      "Training Observation #2350: Loss = 0.39766\n",
      "Training Observation #2360: Loss = 1.95834\n",
      "Training Observation #2370: Loss = 7.73588e-05\n",
      "Training Observation #2380: Loss = 9.622e-05\n",
      "Training Observation #2390: Loss = 0.0063565\n",
      "Training Observation #2400: Loss = 0.000124647\n",
      "Training Observation #2410: Loss = 8.86797\n",
      "Training Observation #2420: Loss = 0.0348785\n",
      "Training Observation #2430: Loss = 0.000362959\n",
      "Training Observation #2440: Loss = 0.0173352\n",
      "Training Observation #2450: Loss = 0.000100491\n",
      "Training Observation #2460: Loss = 0.000713178\n",
      "Training Observation #2470: Loss = 0.00435495\n",
      "Training Observation #2480: Loss = 9.83938e-05\n",
      "Training Observation #2490: Loss = 0.0270263\n",
      "Training Observation #2500: Loss = 6.87163\n",
      "Training Observation #2510: Loss = 0.0336337\n",
      "Training Observation #2520: Loss = 0.000200344\n",
      "Training Observation #2530: Loss = 0.000835136\n",
      "Training Observation #2540: Loss = 0.00214567\n",
      "Training Observation #2550: Loss = 0.0040853\n",
      "Training Observation #2560: Loss = 0.000256907\n",
      "Training Observation #2570: Loss = 5.71427e-05\n",
      "Training Observation #2580: Loss = 0.00039336\n",
      "Training Observation #2590: Loss = 0.0530818\n",
      "Training Observation #2600: Loss = 0.0510549\n",
      "Training Observation #2610: Loss = 2.76331e-05\n",
      "Training Observation #2620: Loss = 0.237769\n",
      "Training Observation #2630: Loss = 0.0270973\n",
      "Training Observation #2640: Loss = 0.000209445\n",
      "Training Observation #2650: Loss = 0.783952\n",
      "Training Observation #2660: Loss = 0.000101708\n",
      "Training Observation #2670: Loss = 0.000144952\n",
      "Training Observation #2680: Loss = 6.11189e-05\n",
      "Training Observation #2690: Loss = 0.0134408\n",
      "Training Observation #2700: Loss = 0.00118657\n",
      "Training Observation #2710: Loss = 3.98259\n",
      "Training Observation #2720: Loss = 0.017543\n",
      "Training Observation #2730: Loss = 0.000250034\n",
      "Training Observation #2740: Loss = 0.0143512\n",
      "Training Observation #2750: Loss = 9.0776\n",
      "Training Observation #2760: Loss = 0.601766\n",
      "Training Observation #2770: Loss = 0.444949\n",
      "Training Observation #2780: Loss = 2.37529\n",
      "Training Observation #2790: Loss = 0.007047\n",
      "Training Observation #2800: Loss = 0.00483826\n",
      "Training Observation #2810: Loss = 0.000566768\n",
      "Training Observation #2820: Loss = 0.0747733\n",
      "Training Observation #2830: Loss = 0.000257563\n",
      "Training Observation #2840: Loss = 0.521111\n",
      "Training Observation #2850: Loss = 0.000768956\n",
      "Training Observation #2860: Loss = 1.75457\n",
      "Training Observation #2870: Loss = 0.00230836\n",
      "Training Observation #2880: Loss = 2.2575\n",
      "Training Observation #2890: Loss = 0.111073\n",
      "Training Observation #2900: Loss = 0.000836071\n",
      "Training Observation #2910: Loss = 0.0065271\n",
      "Training Observation #2920: Loss = 0.000265681\n",
      "Training Observation #2930: Loss = 0.0634954\n",
      "Training Observation #2940: Loss = 0.00471765\n",
      "Training Observation #2950: Loss = 1.23852\n",
      "Training Observation #2960: Loss = 6.07317\n",
      "Training Observation #2970: Loss = 4.66287e-05\n",
      "Training Observation #2980: Loss = 0.132387\n",
      "Training Observation #2990: Loss = 0.000991438\n",
      "Training Observation #3000: Loss = 0.00933652\n",
      "Training Observation #3010: Loss = 0.0183737\n",
      "Training Observation #3020: Loss = 0.00206936\n",
      "Training Observation #3030: Loss = 0.0825522\n",
      "Training Observation #3040: Loss = 0.0127511\n",
      "Training Observation #3050: Loss = 2.77289e-05\n",
      "Training Observation #3060: Loss = 0.000268222\n",
      "Training Observation #3070: Loss = 0.000873681\n",
      "Training Observation #3080: Loss = 1.81364\n",
      "Training Observation #3090: Loss = 0.0145143\n",
      "Training Observation #3100: Loss = 0.0382968\n",
      "Training Observation #3110: Loss = 0.0974504\n",
      "Training Observation #3120: Loss = 0.417821\n",
      "Training Observation #3130: Loss = 3.76056\n",
      "Training Observation #3140: Loss = 0.000329765\n",
      "Training Observation #3150: Loss = 0.274999\n",
      "Training Observation #3160: Loss = 0.000106397\n",
      "Training Observation #3170: Loss = 0.198472\n",
      "Training Observation #3180: Loss = 0.00122763\n",
      "Training Observation #3190: Loss = 0.000879747\n",
      "Training Observation #3200: Loss = 0.000453733\n",
      "Training Observation #3210: Loss = 0.00369712\n",
      "Training Observation #3220: Loss = 0.000523535\n",
      "Training Observation #3230: Loss = 0.00131033\n",
      "Training Observation #3240: Loss = 0.00672262\n",
      "Training Observation #3250: Loss = 0.000154733\n",
      "Training Observation #3260: Loss = 0.750664\n",
      "Training Observation #3270: Loss = 0.0192961\n",
      "Training Observation #3280: Loss = 4.92145\n",
      "Training Observation #3290: Loss = 0.075604\n",
      "Training Observation #3300: Loss = 4.54583\n",
      "Training Observation #3310: Loss = 0.000361966\n",
      "Training Observation #3320: Loss = 0.00198572\n",
      "Training Observation #3330: Loss = 0.0307542\n",
      "Training Observation #3340: Loss = 0.0028523\n",
      "Training Observation #3350: Loss = 5.17995\n",
      "Training Observation #3360: Loss = 0.0025353\n",
      "Training Observation #3370: Loss = 0.0782399\n",
      "Training Observation #3380: Loss = 0.00349576\n",
      "Training Observation #3390: Loss = 0.00357644\n",
      "Training Observation #3400: Loss = 0.000282352\n",
      "Training Observation #3410: Loss = 0.0241182\n",
      "Training Observation #3420: Loss = 0.00589212\n",
      "Training Observation #3430: Loss = 0.00112988\n",
      "Training Observation #3440: Loss = 3.40906\n",
      "Training Observation #3450: Loss = 0.00131165\n",
      "Training Observation #3460: Loss = 0.0025473\n",
      "Training Observation #3470: Loss = 0.0100301\n",
      "Training Observation #3480: Loss = 0.000186726\n",
      "Training Observation #3490: Loss = 0.0124404\n",
      "Training Observation #3500: Loss = 0.606204\n",
      "Training Observation #3510: Loss = 1.02741\n",
      "Training Observation #3520: Loss = 0.00201596\n",
      "Training Observation #3530: Loss = 0.157128\n",
      "Training Observation #3540: Loss = 0.43423\n",
      "Training Observation #3550: Loss = 0.549901\n",
      "Training Observation #3560: Loss = 0.0138711\n",
      "Training Observation #3570: Loss = 0.0119018\n",
      "Training Observation #3580: Loss = 5.70985\n",
      "Training Observation #3590: Loss = 0.00927931\n",
      "Training Observation #3600: Loss = 1.52868\n",
      "Training Observation #3610: Loss = 0.294032\n",
      "Training Observation #3620: Loss = 0.000928819\n",
      "Training Observation #3630: Loss = 0.0296872\n",
      "Training Observation #3640: Loss = 4.9263\n",
      "Training Observation #3650: Loss = 1.64739\n",
      "Training Observation #3660: Loss = 0.0012904\n",
      "Training Observation #3670: Loss = 5.52293\n",
      "Training Observation #3680: Loss = 0.148032\n",
      "Training Observation #3690: Loss = 0.0198212\n",
      "Training Observation #3700: Loss = 2.20511e-05\n",
      "Training Observation #3710: Loss = 0.263941\n",
      "Training Observation #3720: Loss = 6.5628\n",
      "Training Observation #3730: Loss = 0.0120108\n",
      "Training Observation #3740: Loss = 0.0134977\n",
      "Training Observation #3750: Loss = 0.000896253\n",
      "Training Observation #3760: Loss = 0.0089647\n",
      "Training Observation #3770: Loss = 0.000848731\n",
      "Training Observation #3780: Loss = 0.035035\n",
      "Training Observation #3790: Loss = 0.0469053\n",
      "Training Observation #3800: Loss = 0.0178667\n",
      "Training Observation #3810: Loss = 1.10468e-05\n",
      "Training Observation #3820: Loss = 0.00303934\n",
      "Training Observation #3830: Loss = 8.86237e-06\n",
      "Training Observation #3840: Loss = 0.0135938\n",
      "Training Observation #3850: Loss = 0.000163241\n",
      "Training Observation #3860: Loss = 0.000474359\n",
      "Training Observation #3870: Loss = 0.577321\n",
      "Training Observation #3880: Loss = 0.00741776\n",
      "Training Observation #3890: Loss = 7.42487e-05\n",
      "Training Observation #3900: Loss = 0.000658478\n",
      "Training Observation #3910: Loss = 0.000641176\n",
      "Training Observation #3920: Loss = 0.000174028\n",
      "Training Observation #3930: Loss = 6.04531\n",
      "Training Observation #3940: Loss = 0.00324389\n",
      "Training Observation #3950: Loss = 0.00158325\n",
      "Training Observation #3960: Loss = 4.72747\n",
      "Training Observation #3970: Loss = 8.02863\n",
      "Training Observation #3980: Loss = 0.0211834\n",
      "Training Observation #3990: Loss = 0.00491168\n",
      "Training Observation #4000: Loss = 0.00319369\n",
      "Training Observation #4010: Loss = 0.00704771\n",
      "Training Observation #4020: Loss = 0.866699\n",
      "Training Observation #4030: Loss = 0.0630795\n",
      "Training Observation #4040: Loss = 8.05952\n",
      "Training Observation #4050: Loss = 0.0831877\n",
      "Training Observation #4060: Loss = 0.0608864\n",
      "Training Observation #4070: Loss = 0.000928189\n",
      "Training Observation #4080: Loss = 5.99856\n",
      "Training Observation #4090: Loss = 5.64099\n",
      "Training Observation #4100: Loss = 0.0263597\n",
      "Training Observation #4110: Loss = 0.00171453\n",
      "Training Observation #4120: Loss = 0.0594273\n",
      "Training Observation #4130: Loss = 1.1029\n",
      "Training Observation #4140: Loss = 0.000300104\n",
      "Training Observation #4150: Loss = 0.0288588\n",
      "Training Observation #4160: Loss = 5.22658\n",
      "Training Observation #4170: Loss = 1.34361\n",
      "Training Observation #4180: Loss = 0.00112061\n",
      "Training Observation #4190: Loss = 6.89881\n",
      "Training Observation #4200: Loss = 0.0432733\n",
      "Training Observation #4210: Loss = 2.69656e-05\n",
      "Training Observation #4220: Loss = 0.00231443\n",
      "Training Observation #4230: Loss = 0.00767122\n",
      "Training Observation #4240: Loss = 0.0514011\n",
      "Training Observation #4250: Loss = 0.0280414\n",
      "Training Observation #4260: Loss = 2.89973\n",
      "Training Observation #4270: Loss = 0.00396668\n",
      "Training Observation #4280: Loss = 0.000323572\n",
      "Training Observation #4290: Loss = 0.000232832\n",
      "Training Observation #4300: Loss = 0.126804\n",
      "Training Observation #4310: Loss = 0.00321486\n",
      "Training Observation #4320: Loss = 0.00291349\n",
      "Training Observation #4330: Loss = 0.00172076\n",
      "Training Observation #4340: Loss = 0.000153202\n",
      "Training Observation #4350: Loss = 0.250077\n",
      "Training Observation #4360: Loss = 0.0747916\n",
      "Training Observation #4370: Loss = 0.000434234\n",
      "Training Observation #4380: Loss = 0.0484737\n",
      "Training Observation #4390: Loss = 0.231041\n",
      "Training Observation #4400: Loss = 1.0973\n",
      "Training Observation #4410: Loss = 0.0514666\n",
      "Training Observation #4420: Loss = 0.00276468\n",
      "Training Observation #4430: Loss = 0.0118138\n",
      "Training Observation #4440: Loss = 0.00234086\n",
      "Training Observation #4450: Loss = 0.000322363\n"
     ]
    }
   ],
   "source": [
    "# Start Logistic Regression\n",
    "print('Starting Training Over {} Sentences.'.format(len(texts_train)))\n",
    "loss_vec = []\n",
    "train_acc_all = []\n",
    "train_acc_avg = []\n",
    "for ix, t in enumerate(vocab_processor.fit_transform(texts_train)):\n",
    "    y_data = [[target_train[ix]]]\n",
    "    \n",
    "    \n",
    "    sess.run(train_step, feed_dict={x_data: t, y_target: y_data})\n",
    "    temp_loss = sess.run(loss, feed_dict={x_data: t, y_target: y_data})\n",
    "    loss_vec.append(temp_loss)\n",
    "    \n",
    "    if (ix+1)%10==0:\n",
    "        print('Training Observation #' + str(ix+1) + ': Loss = ' + str(temp_loss))\n",
    "        \n",
    "    # Keep trailing average of past 50 observations accuracy\n",
    "    # Get prediction of single observation\n",
    "    [[temp_pred]] = sess.run(prediction, feed_dict={x_data:t, y_target:y_data})\n",
    "    # Get True/False if prediction is accurate\n",
    "    train_acc_temp = target_train[ix]==np.round(temp_pred)\n",
    "    train_acc_all.append(train_acc_temp)\n",
    "    if len(train_acc_all) >= 50:\n",
    "        train_acc_avg.append(np.mean(train_acc_all[-50:]))"
   ]
  },
  {
   "cell_type": "markdown",
   "metadata": {
    "deletable": true,
    "editable": true
   },
   "source": [
    "Now that we have a logistic model, we can evaluate the accuracy on the test dataset."
   ]
  },
  {
   "cell_type": "code",
   "execution_count": 23,
   "metadata": {
    "collapsed": false,
    "deletable": true,
    "editable": true
   },
   "outputs": [
    {
     "name": "stdout",
     "output_type": "stream",
     "text": [
      "Getting Test Set Accuracy For 1115 Sentences.\n",
      "Test Observation #50\n",
      "Test Observation #100\n",
      "Test Observation #150\n",
      "Test Observation #200\n",
      "Test Observation #250\n",
      "Test Observation #300\n",
      "Test Observation #350\n",
      "Test Observation #400\n",
      "Test Observation #450\n",
      "Test Observation #500\n",
      "Test Observation #550\n",
      "Test Observation #600\n",
      "Test Observation #650\n",
      "Test Observation #700\n",
      "Test Observation #750\n",
      "Test Observation #800\n",
      "Test Observation #850\n",
      "Test Observation #900\n",
      "Test Observation #950\n",
      "Test Observation #1000\n",
      "Test Observation #1050\n",
      "Test Observation #1100\n",
      "\n",
      "Overall Test Accuracy: 0.8179372197309417\n"
     ]
    }
   ],
   "source": [
    "# Get test set accuracy\n",
    "print('Getting Test Set Accuracy For {} Sentences.'.format(len(texts_test)))\n",
    "test_acc_all = []\n",
    "for ix, t in enumerate(vocab_processor.fit_transform(texts_test)):\n",
    "    y_data = [[target_test[ix]]]\n",
    "    \n",
    "    if (ix+1)%50==0:\n",
    "        print('Test Observation #' + str(ix+1))    \n",
    "    \n",
    "    # Keep trailing average of past 50 observations accuracy\n",
    "    # Get prediction of single observation\n",
    "    [[temp_pred]] = sess.run(prediction, feed_dict={x_data:t, y_target:y_data})\n",
    "    # Get True/False if prediction is accurate\n",
    "    test_acc_temp = target_test[ix]==np.round(temp_pred)\n",
    "    test_acc_all.append(test_acc_temp)\n",
    "\n",
    "print('\\nOverall Test Accuracy: {}'.format(np.mean(test_acc_all)))"
   ]
  },
  {
   "cell_type": "markdown",
   "metadata": {
    "deletable": true,
    "editable": true
   },
   "source": [
    "Let's look at the training accuracy over all the iterations."
   ]
  },
  {
   "cell_type": "code",
   "execution_count": 24,
   "metadata": {
    "collapsed": false,
    "deletable": true,
    "editable": true
   },
   "outputs": [
    {
     "data": {
      "image/png": "[encoded data removed]",
      "text/plain": [
       "<matplotlib.figure.Figure at 0x7fc5b0608048>"
      ]
     },
     "metadata": {},
     "output_type": "display_data"
    }
   ],
   "source": [
    "# Plot training accuracy over time\n",
    "plt.plot(range(len(train_acc_avg)), train_acc_avg, 'k-', label='Train Accuracy')\n",
    "plt.title('Avg Training Acc Over Past 50 Iterations')\n",
    "plt.xlabel('Iterations')\n",
    "plt.ylabel('Training Accuracy')\n",
    "plt.show()"
   ]
  },
  {
   "cell_type": "markdown",
   "metadata": {},
   "source": [
    "It is worthwhile to mention the motivation of limiting the sentence (or text) size.  In this example we limited the text size to 25 words.  This is a common practice with bag of words because it limits the effect of text length on the prediction.  You can imagine that if we find a word, “meeting” for example, that is predictive of a text being ham (not spam), then a spam message might get through by putting in many occurrences of that word at the end.  In fact, this is a common problem with imbalanced target data.  Imbalanced data might occur in this situation, since spam may be hard to find and ham may be easy to find.  Because of this fact, our vocabulary that we create might be heavily skewed toward words represented in the ham part of our data (more ham means more words are represented in ham than spam).  If we allow unlimited length of texts, then spammers might take advantage of this and create very long texts, which have a higher probability of triggering non-spam word factors in our logistic model.\n",
    "\n",
    "In the next section, we attempt to tackle this problem in a better way using the frequency of word occurrence to determine the values of the word embeddings."
   ]
  }
 ],
 "metadata": {
  "kernelspec": {
   "display_name": "Python 3",
   "language": "python",
   "name": "python3"
  },
  "language_info": {
   "codemirror_mode": {
    "name": "ipython",
    "version": 3
   },
   "file_extension": ".py",
   "mimetype": "text/x-python",
   "name": "python",
   "nbconvert_exporter": "python",
   "pygments_lexer": "ipython3",
   "version": "3.5.2"
  }
 },
 "nbformat": 4,
 "nbformat_minor": 2
}
